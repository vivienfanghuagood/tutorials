{
 "cells": [
  {
   "cell_type": "markdown",
   "metadata": {},
   "source": [
    "\n",
    "# Fused Softmax\n",
    "\n",
    "In this tutorial, you will write a fused softmax operation that is significantly faster\n",
    "than PyTorch's native op for a particular class of matrices: those whose rows can fit in\n",
    "the GPU's SRAM.\n",
    "\n",
    "In doing so, you will learn about:\n",
    "\n",
    "* The benefits of kernel fusion for bandwidth-bound operations.\n",
    "\n",
    "* Reduction operators in Triton.\n"
   ]
  },
  {
   "cell_type": "markdown",
   "metadata": {},
   "source": [
    "## Motivations\n",
    "\n",
    "Custom GPU kernels for elementwise additions are educationally valuable but won't get you very far in practice.\n",
    "Let us consider instead the case of a simple (numerically stabilized) softmax operation:\n",
    "\n"
   ]
  },
  {
   "cell_type": "code",
   "execution_count": 1,
   "metadata": {
    "collapsed": false,
    "jupyter": {
     "outputs_hidden": false
    }
   },
   "outputs": [],
   "source": [
    "import torch\n",
    "\n",
    "import triton\n",
    "import triton.language as tl\n",
    "from triton.runtime import driver\n",
    "\n",
    "# DEVICE = triton.runtime.driver.active.get_active_torch_device()\n",
    "DEVICE = torch.cuda.current_device()\n",
    "\n",
    "def is_hip():\n",
    "    return triton.runtime.driver.active.get_current_target().backend == \"hip\"\n",
    "\n",
    "\n",
    "def is_cdna():\n",
    "    return is_hip() and triton.runtime.driver.active.get_current_target().arch in ('gfx940', 'gfx941', 'gfx942',\n",
    "                                                                                   'gfx90a', 'gfx908')\n",
    "\n",
    "\n",
    "def naive_softmax(x):\n",
    "    \"\"\"Compute row-wise softmax of X using native pytorch\n",
    "\n",
    "    We subtract the maximum element in order to avoid overflows. Softmax is invariant to\n",
    "    this shift.\n",
    "    \"\"\"\n",
    "    # read  MN elements ; write M  elements\n",
    "    x_max = x.max(dim=1)[0]\n",
    "    # read MN + M elements ; write MN elements\n",
    "    z = x - x_max[:, None]\n",
    "    # read  MN elements ; write MN elements\n",
    "    numerator = torch.exp(z)\n",
    "    # read  MN elements ; write M  elements\n",
    "    denominator = numerator.sum(dim=1)\n",
    "    # read MN + M elements ; write MN elements\n",
    "    ret = numerator / denominator[:, None]\n",
    "    # in total: read 5MN + 2M elements ; wrote 3MN + 2M elements\n",
    "    return ret"
   ]
  },
  {
   "cell_type": "markdown",
   "metadata": {},
   "source": [
    "When implemented naively in PyTorch, computing :code:`y = naive_softmax(x)` for $x \\in R^{M \\times N}$\n",
    "requires reading $5MN + 2M$ elements from DRAM and writing back $3MN + 2M$ elements.\n",
    "This is obviously wasteful; we'd prefer to have a custom \"fused\" kernel that only reads\n",
    "X once and does all the necessary computations on-chip.\n",
    "Doing so would require reading and writing back only $MN$ bytes, so we could\n",
    "expect a theoretical speed-up of ~4x (i.e., $(8MN + 4M) / 2MN$).\n",
    "The `torch.jit.script` flags aims to perform this kind of \"kernel fusion\" automatically\n",
    "but, as we will see later, it is still far from ideal.\n",
    "\n"
   ]
  },
  {
   "cell_type": "markdown",
   "metadata": {},
   "source": [
    "## Compute Kernel\n",
    "\n",
    "Our softmax kernel works as follows: each program loads a set of rows of the input matrix X strided by number of programs,\n",
    "normalizes it and writes back the result to the output Y.\n",
    "\n",
    "Note that one important limitation of Triton is that each block must have a\n",
    "power-of-two number of elements, so we need to internally \"pad\" each row and guard the\n",
    "memory operations properly if we want to handle any possible input shapes:\n",
    "\n"
   ]
  },
  {
   "cell_type": "code",
   "execution_count": 2,
   "metadata": {
    "collapsed": false,
    "jupyter": {
     "outputs_hidden": false
    }
   },
   "outputs": [],
   "source": [
    "@triton.jit\n",
    "def softmax_kernel(output_ptr, input_ptr, input_row_stride, output_row_stride, n_rows, n_cols, BLOCK_SIZE: tl.constexpr,\n",
    "                   num_stages: tl.constexpr):\n",
    "    # starting row of the program\n",
    "    row_start = tl.program_id(0)\n",
    "    row_step = tl.num_programs(0)\n",
    "    for row_idx in tl.range(row_start, n_rows, row_step, num_stages=num_stages):\n",
    "        # The stride represents how much we need to increase the pointer to advance 1 row\n",
    "        row_start_ptr = input_ptr + row_idx * input_row_stride\n",
    "        # The block size is the next power of two greater than n_cols, so we can fit each\n",
    "        # row in a single block\n",
    "        col_offsets = tl.arange(0, BLOCK_SIZE)\n",
    "        input_ptrs = row_start_ptr + col_offsets\n",
    "        # Load the row into SRAM, using a mask since BLOCK_SIZE may be > than n_cols\n",
    "        mask = col_offsets < n_cols\n",
    "        row = tl.load(input_ptrs, mask=mask, other=-float('inf'))\n",
    "        # Subtract maximum for numerical stability\n",
    "        row_minus_max = row - tl.max(row, axis=0)\n",
    "        # Note that exponentiation in Triton is fast but approximate (i.e., think __expf in CUDA)\n",
    "        numerator = tl.exp(row_minus_max)\n",
    "        denominator = tl.sum(numerator, axis=0)\n",
    "        softmax_output = numerator / denominator\n",
    "        # Write back output to DRAM\n",
    "        output_row_start_ptr = output_ptr + row_idx * output_row_stride\n",
    "        output_ptrs = output_row_start_ptr + col_offsets\n",
    "        tl.store(output_ptrs, softmax_output, mask=mask)"
   ]
  },
  {
   "cell_type": "markdown",
   "metadata": {},
   "source": [
    "We can create a helper function that enqueues the kernel and its (meta-)arguments for any given input tensor.\n",
    "\n"
   ]
  },
  {
   "cell_type": "code",
   "execution_count": 3,
   "metadata": {
    "collapsed": false,
    "jupyter": {
     "outputs_hidden": false
    }
   },
   "outputs": [],
   "source": [
    "properties = driver.active.utils.get_device_properties(DEVICE)\n",
    "NUM_SM = properties[\"multiprocessor_count\"]\n",
    "NUM_REGS = properties[\"max_num_regs\"]\n",
    "SIZE_SMEM = properties[\"max_shared_mem\"]\n",
    "WARP_SIZE = properties[\"warpSize\"]\n",
    "target = triton.runtime.driver.active.get_current_target()\n",
    "kernels = {}\n",
    "\n",
    "\n",
    "def softmax(x):\n",
    "    n_rows, n_cols = x.shape\n",
    "\n",
    "    # The block size of each loop iteration is the smallest power of two greater than the number of columns in `x`\n",
    "    BLOCK_SIZE = triton.next_power_of_2(n_cols)\n",
    "\n",
    "    # Another trick we can use is to ask the compiler to use more threads per row by\n",
    "    # increasing the number of warps (`num_warps`) over which each row is distributed.\n",
    "    # You will see in the next tutorial how to auto-tune this value in a more natural\n",
    "    # way so you don't have to come up with manual heuristics yourself.\n",
    "    num_warps = 8\n",
    "\n",
    "    # Number of software pipelining stages.\n",
    "    num_stages = 4 if SIZE_SMEM > 200000 else 2\n",
    "\n",
    "    # Allocate output\n",
    "    y = torch.empty_like(x)\n",
    "\n",
    "    # pre-compile kernel to get register usage and compute thread occupancy.\n",
    "    kernel = softmax_kernel.warmup(y, x, x.stride(0), y.stride(0), n_rows, n_cols, BLOCK_SIZE=BLOCK_SIZE,\n",
    "                                   num_stages=num_stages, num_warps=num_warps, grid=(1, ))\n",
    "    kernel._init_handles()\n",
    "    n_regs = kernel.n_regs\n",
    "    size_smem = kernel.metadata.shared\n",
    "    if is_hip():\n",
    "        # NUM_REGS represents the number of regular purpose registers. On CDNA architectures this is half of all registers available.\n",
    "        # However, this is not always the case. In most cases all registers can be used as regular purpose registers.\n",
    "        # ISA SECTION (3.6.4 for CDNA3)\n",
    "        # VGPRs are allocated out of two pools: regular VGPRs and accumulation VGPRs. Accumulation VGPRs are used\n",
    "        # with matrix VALU instructions, and can also be loaded directly from memory. A wave may have up to 512 total\n",
    "        # VGPRs, 256 of each type. When a wave has fewer than 512 total VGPRs, the number of each type is flexible - it is\n",
    "        # not required to be equal numbers of both types.\n",
    "        NUM_GPRS = NUM_REGS\n",
    "        if is_cdna():\n",
    "            NUM_GPRS = NUM_REGS * 2\n",
    "\n",
    "        # MAX_NUM_THREADS represents maximum number of resident threads per multi-processor.\n",
    "        # When we divide this number with WARP_SIZE we get maximum number of waves that can\n",
    "        # execute on a CU (multi-processor)  in parallel.\n",
    "        MAX_NUM_THREADS = properties[\"max_threads_per_sm\"]\n",
    "        max_num_waves = MAX_NUM_THREADS // WARP_SIZE\n",
    "        occupancy = min(NUM_GPRS // WARP_SIZE // n_regs, max_num_waves) // num_warps\n",
    "    else:\n",
    "        occupancy = NUM_REGS // (n_regs * WARP_SIZE * num_warps)\n",
    "    occupancy = min(occupancy, SIZE_SMEM // size_smem)\n",
    "    num_programs = NUM_SM * occupancy\n",
    "\n",
    "    num_programs = min(num_programs, n_rows)\n",
    "\n",
    "    # Create a number of persistent programs.\n",
    "    kernel[(num_programs, 1, 1)](y, x, x.stride(0), y.stride(0), n_rows, n_cols)\n",
    "    return y"
   ]
  },
  {
   "cell_type": "markdown",
   "metadata": {},
   "source": [
    "## Unit Test\n",
    "\n"
   ]
  },
  {
   "cell_type": "markdown",
   "metadata": {},
   "source": [
    "We make sure that we test our kernel on a matrix with an irregular number of rows and columns.\n",
    "This will allow us to verify that our padding mechanism works.\n",
    "\n"
   ]
  },
  {
   "cell_type": "code",
   "execution_count": 4,
   "metadata": {
    "collapsed": false,
    "jupyter": {
     "outputs_hidden": false
    }
   },
   "outputs": [],
   "source": [
    "torch.manual_seed(0)\n",
    "x = torch.randn(1823, 781, device=DEVICE)\n",
    "y_triton = softmax(x)\n",
    "y_torch = torch.softmax(x, axis=1)\n",
    "assert torch.allclose(y_triton, y_torch), (y_triton, y_torch)"
   ]
  },
  {
   "cell_type": "markdown",
   "metadata": {},
   "source": [
    "As expected, the results are identical.\n",
    "\n"
   ]
  },
  {
   "cell_type": "markdown",
   "metadata": {},
   "source": [
    "## Benchmark\n",
    "\n",
    "Here we will benchmark our operation as a function of the number of columns in the input matrix -- assuming 4096 rows.\n",
    "We will then compare its performance against (1) :code:`torch.softmax` and (2) the :code:`naive_softmax` defined above.\n",
    "\n"
   ]
  },
  {
   "cell_type": "code",
   "execution_count": 6,
   "metadata": {
    "collapsed": false,
    "jupyter": {
     "outputs_hidden": false
    }
   },
   "outputs": [
    {
     "data": {
      "image/png": "[encoded data removed]",
      "text/plain": [
       "<Figure size 640x480 with 1 Axes>"
      ]
     },
     "metadata": {},
     "output_type": "display_data"
    },
    {
     "name": "stdout",
     "output_type": "stream",
     "text": [
      "softmax-performance:\n",
      "          N       Triton        Torch  Naive Softmax\n",
      "0     256.0   504.621340  1134.313107     243.165210\n",
      "1     384.0   704.901488  1330.029773     306.093684\n",
      "2     512.0   923.939827  1720.693882     413.980971\n",
      "3     640.0  1019.868096  1729.477536     501.822726\n",
      "4     768.0  1214.975097  1923.143281     592.599483\n",
      "5     896.0  1369.640315  2040.145237     639.613788\n",
      "6    1024.0  1459.386270  2171.044686     657.532656\n",
      "7    1152.0  1472.099308  2002.392485     588.702755\n",
      "8    1280.0  1702.342671  2147.356065     695.645863\n",
      "9    1408.0  1835.330327  2243.123006     712.875270\n",
      "10   1536.0  1977.305777  2355.889285     736.003516\n",
      "11   1664.0  1894.259989  2487.114519     674.655149\n",
      "12   1792.0  1911.535097  2417.380353     756.068256\n",
      "13   1920.0  2278.825776  2549.398204     759.248692\n",
      "14   2048.0  2061.264982  2538.154929     729.049419\n",
      "15   2176.0  1939.126600  1707.108642     701.090058\n",
      "16   2304.0  2047.548025  1753.633920     769.875394\n",
      "17   2432.0  2101.619211  1718.009960     773.369007\n",
      "18   2560.0  2207.943217  1823.256501     786.229390\n",
      "19   2688.0  2248.393177  1838.378299     741.656363\n",
      "20   2816.0  2097.051697  1905.572383     818.618124\n",
      "21   2944.0  2156.142460  1894.363833     829.132217\n",
      "22   3072.0  2240.707379  1961.086404     815.614175\n",
      "23   3200.0  2171.984425  1848.860004     789.817161\n",
      "24   3328.0  2215.284093  1886.894943     835.160018\n",
      "25   3456.0  2219.821720  1924.265337     830.938339\n",
      "26   3584.0  2220.539847  1939.533888     842.219638\n",
      "27   3712.0  2248.084892  1940.140005     808.752636\n",
      "28   3840.0  2230.252600  1975.493584     816.665095\n",
      "29   3968.0  2248.432967  2013.390480     813.476910\n",
      "30   4096.0  2182.947997  2056.081658     809.114346\n",
      "31   4224.0  2109.160007  1961.645566     815.386497\n",
      "32   4352.0  2139.680074  2030.505527     781.526186\n",
      "33   4480.0  2154.571747  2026.263071     822.757906\n",
      "34   4608.0  2182.746447  2059.023509     846.918753\n",
      "35   4736.0  2185.097870  2078.561696     795.612268\n",
      "36   4864.0  2238.192077  2098.597965     862.054929\n",
      "37   4992.0  2305.659790  2131.795678     838.078228\n",
      "38   5120.0  2261.253663  2213.951646     862.362391\n",
      "39   5248.0  2252.130273  2144.237935     810.096593\n",
      "40   5376.0  2376.706611  2168.251706     847.344941\n",
      "41   5504.0  2363.834578  2151.281152     800.628891\n",
      "42   5632.0  2400.476140  2170.014911     848.125591\n",
      "43   5760.0  2344.093332  2173.062329     827.493314\n",
      "44   5888.0  2442.969622  2214.941454     865.608612\n",
      "45   6016.0  2459.146920  2212.534390     845.686046\n",
      "46   6144.0  2425.112499  2254.937747     849.952757\n",
      "47   6272.0  2411.513675  2228.187574     821.954734\n",
      "48   6400.0  2489.806381  2261.718444     849.634720\n",
      "49   6528.0  2460.322677  2250.495409     838.545640\n",
      "50   6656.0  2518.756412  2309.219261     845.409540\n",
      "51   6784.0  2544.770069  2287.758368     827.392264\n",
      "52   6912.0  2514.798357  2335.116780     842.018908\n",
      "53   7040.0  2515.927357  2327.058755     858.233438\n",
      "54   7168.0  2593.985611  2318.211779     839.431184\n",
      "55   7296.0  2499.237089  2274.566065     824.330274\n",
      "56   7424.0  2477.043532  2282.194712     833.837892\n",
      "57   7552.0  2504.500143  2313.411853     846.184650\n",
      "58   7680.0  2589.473354  2331.305571     845.000122\n",
      "59   7808.0  2519.591406  2313.343239     818.056346\n",
      "60   7936.0  2583.104650  2275.331438     851.020172\n",
      "61   8064.0  2560.563447  2312.173979     852.571863\n",
      "62   8192.0  2541.740076  2375.381720     790.054676\n",
      "63   8320.0  2419.980891  2315.815803     740.465629\n",
      "64   8448.0  2456.991514  2214.292121     771.964740\n",
      "65   8576.0  2418.528862  2362.884590     780.593170\n",
      "66   8704.0  2413.773074  2353.019082     773.412951\n",
      "67   8832.0  2446.166380  2380.287163     785.962701\n",
      "68   8960.0  2450.144012  2340.914551     776.488080\n",
      "69   9088.0  2454.967533  2373.075045     769.865990\n",
      "70   9216.0  2457.558787  2388.490188     776.501854\n",
      "71   9344.0  2434.993227  1780.162799     780.221744\n",
      "72   9472.0  2444.994848  1780.646063     788.494799\n",
      "73   9600.0  2460.638896  1781.788068     786.524577\n",
      "74   9728.0  2536.998503  1805.065334     792.814442\n",
      "75   9856.0  2491.137427  1799.276457     783.811617\n",
      "76   9984.0  2527.595187  1825.662023     791.113895\n",
      "77  10112.0  2548.829425  1836.176480     796.943558\n",
      "78  10240.0  2531.889309  1860.435757     795.318918\n",
      "79  10368.0  2536.899456  1829.470850     780.780878\n",
      "80  10496.0  2563.241680  1841.892188     779.538485\n",
      "81  10624.0  2562.657168  1843.544524     779.114710\n",
      "82  10752.0  2558.695614  1871.125260     782.004701\n",
      "83  10880.0  2560.636700  1845.953442     783.110715\n",
      "84  11008.0  2601.142997  1875.230503     780.995710\n",
      "85  11136.0  2570.437106  1893.365304     789.337552\n",
      "86  11264.0  2634.269386  1910.752987     792.280165\n",
      "87  11392.0  2635.619170  1862.930732     783.029929\n",
      "88  11520.0  2626.363895  1875.072151     781.556138\n",
      "89  11648.0  2619.887166  1875.697074     789.189732\n",
      "90  11776.0  2655.444186  1902.452886     780.537840\n",
      "91  11904.0  2640.251567  1907.129159     772.787344\n",
      "92  12032.0  2653.516993  1921.557506     792.408726\n",
      "93  12160.0  2673.808535  1904.488475     777.362867\n",
      "94  12288.0  2707.286023  1949.330768     793.281944\n",
      "95  12416.0  2677.878957  1837.345569     781.943725\n",
      "96  12544.0  2701.572355  1842.135496     781.415123\n",
      "97  12672.0  2688.165675  1821.961245     771.927553\n"
     ]
    }
   ],
   "source": [
    "@triton.testing.perf_report(\n",
    "    triton.testing.Benchmark(\n",
    "        x_names=['N'],  # argument names to use as an x-axis for the plot\n",
    "        x_vals=[128 * i for i in range(2, 100)],  # different possible values for `x_name`\n",
    "        line_arg='provider',  # argument name whose value corresponds to a different line in the plot\n",
    "        line_vals=['triton', 'torch', 'naive_softmax'],  # possible values for `line_arg``\n",
    "        line_names=[\"Triton\", \"Torch\", \"Naive Softmax\"],  # label name for the lines\n",
    "        styles=[('blue', '-'), ('green', '-'), ('red', '-')],  # line styles\n",
    "        ylabel=\"GB/s\",  # label name for the y-axis\n",
    "        plot_name=\"softmax-performance\",  # name for the plot. Used also as a file name for saving the plot.\n",
    "        args={'M': 4096},  # values for function arguments not in `x_names` and `y_name`\n",
    "    ))\n",
    "def benchmark(M, N, provider):\n",
    "    x = torch.randn(M, N, device=DEVICE, dtype=torch.float32)\n",
    "    stream = torch.cuda.Stream()\n",
    "    torch.cuda.set_stream(stream)\n",
    "    if provider == 'torch':\n",
    "        ms = triton.testing.do_bench(lambda: torch.softmax(x, axis=-1))\n",
    "    if provider == 'triton':\n",
    "        ms = triton.testing.do_bench(lambda: softmax(x))\n",
    "    if provider == 'naive_softmax':\n",
    "        ms = triton.testing.do_bench(lambda: naive_softmax(x))\n",
    "    gbps = lambda ms: 2 * x.numel() * x.element_size() * 1e-9 / (ms * 1e-3)\n",
    "    return gbps(ms)\n",
    "\n",
    "\n",
    "benchmark.run(show_plots=True, print_data=True)"
   ]
  },
  {
   "cell_type": "markdown",
   "metadata": {},
   "source": [
    "In the above plot, we can see that:\n",
    " - Triton is 4x faster than the Torch JIT. This confirms our suspicions that the Torch JIT does not do any fusion here.\n",
    " - Triton is noticeably faster than :code:`torch.softmax` -- in addition to being **easier to read, understand and maintain**.\n",
    "   Note however that the PyTorch `softmax` operation is more general and will work on tensors of any shape.\n",
    "\n"
   ]
  }
 ],
 "metadata": {
  "kernelspec": {
   "display_name": "Python 3 (ipykernel)",
   "language": "python",
   "name": "python3"
  },
  "language_info": {
   "codemirror_mode": {
    "name": "ipython",
    "version": 3
   },
   "file_extension": ".py",
   "mimetype": "text/x-python",
   "name": "python",
   "nbconvert_exporter": "python",
   "pygments_lexer": "ipython3",
   "version": "3.12.11"
  }
 },
 "nbformat": 4,
 "nbformat_minor": 4
}
